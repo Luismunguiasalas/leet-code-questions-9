{
 "metadata": {
  "language_info": {
   "codemirror_mode": {
    "name": "ipython",
    "version": 3
   },
   "file_extension": ".py",
   "mimetype": "text/x-python",
   "name": "python",
   "nbconvert_exporter": "python",
   "pygments_lexer": "ipython3",
   "version": "3.8.5"
  },
  "orig_nbformat": 2,
  "kernelspec": {
   "name": "python3",
   "display_name": "Python 3.8.5 64-bit ('base': conda)",
   "metadata": {
    "interpreter": {
     "hash": "298e7f1195cd23b17b2fdfab729c243b5ef1c973771016dbf6662dc9baf69dd6"
    }
   }
  }
 },
 "nbformat": 4,
 "nbformat_minor": 2,
 "cells": [
  {
   "cell_type": "code",
   "execution_count": null,
   "metadata": {},
   "outputs": [],
   "source": [
    "# 1046. Last Stone Weight\n",
    "def lastStoneWeight(stones):\n",
    "    while len(stones) > 1:\n",
    "        i1 = stones.index(max(stones))\n",
    "        v1 = stones.pop(i1)\n",
    "        i2 = stones.index(max(stones))\n",
    "        v2 = stones.pop(i2)\n",
    "        result = abs(v1-v2)\n",
    "        if result > 0:stones.append(result)\n",
    "    if stones == []:return 0\n",
    "    else:return stones[0]\n",
    "\n",
    "stones = [2,7,4,1,8,1]\n",
    "stones = [7,6,7,6,9]\n",
    "stones = [1,1]\n",
    "# stones = [9,10,1,7,3]\n",
    "lastStoneWeight(stones)"
   ]
  }
 ]
}