{
 "metadata": {
  "language_info": {
   "codemirror_mode": {
    "name": "ipython",
    "version": 3
   },
   "file_extension": ".py",
   "mimetype": "text/x-python",
   "name": "python",
   "nbconvert_exporter": "python",
   "pygments_lexer": "ipython3",
   "version": "3.8.5"
  },
  "orig_nbformat": 2,
  "kernelspec": {
   "name": "python3",
   "display_name": "Python 3.8.5 64-bit ('base': conda)",
   "metadata": {
    "interpreter": {
     "hash": "298e7f1195cd23b17b2fdfab729c243b5ef1c973771016dbf6662dc9baf69dd6"
    }
   }
  }
 },
 "nbformat": 4,
 "nbformat_minor": 2,
 "cells": [
  {
   "cell_type": "code",
   "execution_count": null,
   "metadata": {},
   "outputs": [],
   "source": [
    "# 1046. Last Stone Weight\n",
    "def lastStoneWeight(stones):\n",
    "    while len(stones) > 1:\n",
    "        i1 = stones.index(max(stones))\n",
    "        v1 = stones.pop(i1)\n",
    "        i2 = stones.index(max(stones))\n",
    "        v2 = stones.pop(i2)\n",
    "        result = abs(v1-v2)\n",
    "        if result > 0:stones.append(result)\n",
    "    if stones == []:return 0\n",
    "    else:return stones[0]\n",
    "\n",
    "stones = [2,7,4,1,8,1]\n",
    "stones = [7,6,7,6,9]\n",
    "stones = [1,1]\n",
    "# stones = [9,10,1,7,3]\n",
    "lastStoneWeight(stones)"
   ]
  },
  {
   "cell_type": "code",
   "execution_count": null,
   "metadata": {},
   "outputs": [],
   "source": [
    "# 575. Distribute Candies\n",
    "def distributeCandies(candies):\n",
    "    candies_can_eat = len(candies) // 2\n",
    "    candy_types = len(set(candies))\n",
    "    return min(candies_can_eat,candy_types)\n",
    "\n",
    "def distributeCandies(candies):\n",
    "    return min((len(candies)//2),len(set(candies)))\n",
    "\n",
    "candy = [1,1,2,2,3,3]\n",
    "candy = [1,2,3,4,5,6]\n",
    "candy = [1,1,4,1]\n",
    "# candy = [1,1,2,3]\n",
    "# candy = [6,6,6,6]\n",
    "distributeCandies(candy)"
   ]
  },
  {
   "cell_type": "code",
   "execution_count": null,
   "metadata": {},
   "outputs": [],
   "source": [
    "# 867. Transpose Matrix\n",
    "def transpose(matrix):\n",
    "    a = []\n",
    "    for b in zip(*matrix):\n",
    "        a.append(b)\n",
    "    return a\n",
    "matrix = [[1,2,3],[4,5,6],[7,8,9]]\n",
    "transpose(matrix)"
   ]
  },
  {
   "cell_type": "code",
   "execution_count": null,
   "metadata": {},
   "outputs": [],
   "source": [
    "# 1260. Shift 2D Grid\n",
    "def shiftGrid(grid,k):\n",
    "     ml = len(grid[0])\n",
    "        gc=sum(grid,[])\n",
    "        \n",
    "        if len(gc) < k:\n",
    "            while k > len(gc):\n",
    "                k = k - len(gc)\n",
    "        if len(gc) == k:\n",
    "            return grid\n",
    "        \n",
    "        gc = gc[-k:]+gc[:-k]\n",
    "        a=0\n",
    "        b=[]\n",
    "        c=[]\n",
    "        for n in gc:\n",
    "            a+=1\n",
    "            c.append(n)\n",
    "            if a==ml:\n",
    "                a=0\n",
    "                b.append(c)\n",
    "                c=[]\n",
    "        return b\n",
    "\n",
    "# m = [[1,2,3],[4,5,6],[7,8,9]]\n",
    "# grid = [[3,8,1,9],[19,7,2,5],[4,6,11,10],[12,0,21,13]]\n",
    "# k = 4\n",
    "# grid = [[1,2,3],[4,5,6],[7,8,9]]\n",
    "# k = 9\n",
    "grid = [[1],[2],[3],[4],[7],[6],[5]]\n",
    "k = 23\n",
    "shiftGrid(grid,k)"
   ]
  },
  {
   "cell_type": "code",
   "execution_count": null,
   "metadata": {},
   "outputs": [],
   "source": [
    "# 1189. Maximum Number of Balloons\n",
    "\n",
    "def max_number_of_balloons(text):\n",
    "    b = {'b':0,'a':0,'l':0,'o':0,'n':0}\n",
    "\n",
    "    for l in text:\n",
    "        if l in b:\n",
    "            b[l] += 1\n",
    "\n",
    "    if sum(b.values())==0:return 0\n",
    "\n",
    "    c = 0\n",
    "    while True:\n",
    "        for k,v in list(b.items()):\n",
    "            if k == 'l' or k == 'o':\n",
    "                if v - 2 >= 0:\n",
    "                    b[k] -= 2\n",
    "                else:return c\n",
    "            elif v - 1 >= 0:\n",
    "                    b[k] -= 1\n",
    "            else:\n",
    "                return c\n",
    "        c += 1\n",
    "\n",
    "\n",
    "text = 'nlabolko'\n",
    "text = 'loonbalxballpoon'\n",
    "text = 'leetcode'\n",
    "text = 'balon'\n",
    "max_number_of_balloons(text)"
   ]
  },
  {
   "cell_type": "code",
   "execution_count": null,
   "metadata": {},
   "outputs": [],
   "source": [
    "2x%2\n"
   ]
  }
 ]
}