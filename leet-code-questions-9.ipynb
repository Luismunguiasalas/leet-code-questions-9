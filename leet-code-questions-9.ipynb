{
 "metadata": {
  "language_info": {
   "codemirror_mode": {
    "name": "ipython",
    "version": 3
   },
   "file_extension": ".py",
   "mimetype": "text/x-python",
   "name": "python",
   "nbconvert_exporter": "python",
   "pygments_lexer": "ipython3",
   "version": "3.8.5-final"
  },
  "orig_nbformat": 2,
  "kernelspec": {
   "name": "python3",
   "display_name": "Python 3",
   "language": "python"
  }
 },
 "nbformat": 4,
 "nbformat_minor": 2,
 "cells": [
  {
   "cell_type": "code",
   "execution_count": null,
   "metadata": {},
   "outputs": [],
   "source": [
    "import re\n",
    "# 1694. Reformat Phone Number\n",
    "\n",
    "def reformatNumber(number):\n",
    "    # replace white space with empty space\n",
    "    number = re.sub('\\s','',number)\n",
    "    # replace \"-\" char with empty space\n",
    "    number = re.sub('-','',number)\n",
    "    # to hold end of number and to hold current length of number\n",
    "    # after removal of \\s and -\n",
    "    endOfNumber = ''\n",
    "    lengthOfNumber = len(number)\n",
    "    if lengthOfNumber <= 3: return number\n",
    "    # split end to one section of two\n",
    "    if lengthOfNumber % 3 == 2 and lengthOfNumber > 3:\n",
    "        endOfNumber = number[lengthOfNumber-2:]\n",
    "        # slice end of number out of number\n",
    "        number = number[:lengthOfNumber-2]\n",
    "    # slice end to two sections of two\n",
    "    elif lengthOfNumber % 3 == 1 and lengthOfNumber > 3:\n",
    "        endOfNumber = number[lengthOfNumber-4:lengthOfNumber-2]+'-'+number[lengthOfNumber-2:]\n",
    "        # slice end of number out of number\n",
    "        number = number[:lengthOfNumber-4]\n",
    "    # to hold beginning of number and interval and index\n",
    "    beginningOfNumber = ''\n",
    "    interval = 3\n",
    "    index = 0\n",
    "    # loop and add - at every interval\n",
    "    while index < len(number):\n",
    "        beginningOfNumber += number[index]\n",
    "        if index + 1 == interval:\n",
    "            beginningOfNumber += '-'\n",
    "            interval += 3\n",
    "        index += 1\n",
    "    number = beginningOfNumber + endOfNumber\n",
    "    # return beginningOfNumber+endOfNumber\n",
    "    return number.rstrip('-')\n",
    "number = \"1-23-5427 -4-23214 \"\n",
    "# number = \"123 4-567543\"\n",
    "# number = \"123 4-5678 342\"\n",
    "# number = \"9964-\"\n",
    "# number = \"\"\n",
    "reformatNumber(number)"
   ]
  },
  {
   "cell_type": "code",
   "execution_count": 101,
   "metadata": {},
   "outputs": [
    {
     "output_type": "execute_result",
     "data": {
      "text/plain": [
       "27"
      ]
     },
     "metadata": {},
     "execution_count": 101
    }
   ],
   "source": [
    "# 682. Baseball Game\n",
    "def calPoints(ops):\n",
    "    record = []\n",
    "    s = 0\n",
    "    for op in ops:\n",
    "        if op == \"C\":\n",
    "            s -= record[-1]\n",
    "            record.pop()\n",
    "        elif op == \"D\":\n",
    "            temp = record[-1] * 2\n",
    "            record.append(temp)\n",
    "            s += temp\n",
    "        elif op == \"+\":\n",
    "            temp = record[-2] + record[-1]\n",
    "            record.append(temp)\n",
    "            s += temp\n",
    "        else:\n",
    "            record.append(int(op))\n",
    "            s += int(op)\n",
    "    return s\n",
    "\n",
    "ops = [\"5\",\"2\",\"C\",\"D\",\"+\"]\n",
    "ops = [\"5\",\"-2\",\"4\",\"C\",\"D\",\"9\",\"+\",\"+\"]\n",
    "ops = [\"1\"]\n",
    "calPoints(ops)"
   ]
  },
  {
   "cell_type": "code",
   "execution_count": 206,
   "metadata": {},
   "outputs": [
    {
     "output_type": "execute_result",
     "data": {
      "text/plain": [
       "7"
      ]
     },
     "metadata": {},
     "execution_count": 206
    }
   ],
   "source": [
    "# 136. Single Number\n",
    "def singleNumber(nums):\n",
    "    visited = set()\n",
    "    index = len(nums)-1\n",
    "    while index >= 0:\n",
    "        cn = nums[index]\n",
    "        if cn not in visited:\n",
    "            visited.add(cn)\n",
    "            unique = True\n",
    "            # print()\n",
    "            for n in nums[:index]:\n",
    "                # print(n)\n",
    "                if cn == n:\n",
    "                    unique = False\n",
    "                    break\n",
    "            if unique: return cn\n",
    "        index -= 1\n",
    "    return\n",
    "\n",
    "def singleNumber(nums):\n",
    "    d= dict()\n",
    "    for n in nums:\n",
    "        if n not in d:\n",
    "            d[n] = 0\n",
    "        d[n] += 1\n",
    "    for n,c in d.items():\n",
    "        if c == 1: return n\n",
    "\n",
    "def singleNumber(nums):\n",
    "    xor = 0\n",
    "    for n in set(nums):\n",
    "        xor = xor ^ n\n",
    "    return xor\n",
    "\n",
    "# nums = [2,2,1]\n",
    "# nums = [4,1,2,1,2]\n",
    "# nums = [1,0,1]\n",
    "# nums = [1]\n",
    "# nums = [1,3,1,-1,3]\n",
    "singleNumber(nums)\n"
   ]
  },
  {
   "cell_type": "code",
   "execution_count": 198,
   "metadata": {},
   "outputs": [
    {
     "output_type": "execute_result",
     "data": {
      "text/plain": [
       "4"
      ]
     },
     "metadata": {},
     "execution_count": 198
    }
   ],
   "source": [
    "6 ^ 2"
   ]
  }
 ]
}