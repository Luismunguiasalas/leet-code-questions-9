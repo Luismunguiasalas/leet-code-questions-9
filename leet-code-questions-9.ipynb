{
 "metadata": {
  "language_info": {
   "codemirror_mode": {
    "name": "ipython",
    "version": 3
   },
   "file_extension": ".py",
   "mimetype": "text/x-python",
   "name": "python",
   "nbconvert_exporter": "python",
   "pygments_lexer": "ipython3",
   "version": "3.8.5-final"
  },
  "orig_nbformat": 2,
  "kernelspec": {
   "name": "python3",
   "display_name": "Python 3",
   "language": "python"
  }
 },
 "nbformat": 4,
 "nbformat_minor": 2,
 "cells": [
  {
   "cell_type": "code",
   "execution_count": 76,
   "metadata": {},
   "outputs": [
    {
     "output_type": "error",
     "ename": "IndentationError",
     "evalue": "expected an indented block (<ipython-input-76-aadd579ede77>, line 31)",
     "traceback": [
      "\u001b[0;36m  File \u001b[0;32m\"<ipython-input-76-aadd579ede77>\"\u001b[0;36m, line \u001b[0;32m31\u001b[0m\n\u001b[0;31m    if index + 1 == interval:\u001b[0m\n\u001b[0m    ^\u001b[0m\n\u001b[0;31mIndentationError\u001b[0m\u001b[0;31m:\u001b[0m expected an indented block\n"
     ]
    }
   ],
   "source": [
    "import re\n",
    "# 1694. Reformat Phone Number\n",
    "\n",
    "def reformatNumber(number):\n",
    "    # replace white space with empty space\n",
    "    number = re.sub('\\s','',number)\n",
    "    # replace \"-\" char with empty space\n",
    "    number = re.sub('-','',number)\n",
    "    # to hold end of number and to hold current length of number\n",
    "    # after removal of \\s and -\n",
    "    endOfNumber = ''\n",
    "    lengthOfNumber = len(number)\n",
    "    if lengthOfNumber <= 3: return number\n",
    "    # split end to one section of two\n",
    "    if lengthOfNumber % 3 == 2 and lengthOfNumber > 3:\n",
    "        endOfNumber = number[lengthOfNumber-2:]\n",
    "        # slice end of number out of number\n",
    "        number = number[:lengthOfNumber-2]\n",
    "    # slice end to two sections of two\n",
    "    elif lengthOfNumber % 3 == 1 and lengthOfNumber > 3:\n",
    "        endOfNumber = number[lengthOfNumber-4:lengthOfNumber-2]+'-'+number[lengthOfNumber-2:]\n",
    "        # slice end of number out of number\n",
    "        number = number[:lengthOfNumber-4]\n",
    "    # to hold beginning of number and interval and index\n",
    "    beginningOfNumber = ''\n",
    "    interval = 3\n",
    "    index = 0\n",
    "    # loop and add - at every interval\n",
    "    while index < len(number):\n",
    "        beginningOfNumber += number[index]\n",
    "        if index + 1 == interval:\n",
    "            beginningOfNumber += '-'\n",
    "            interval += 3\n",
    "        index += 1\n",
    "    number = beginningOfNumber + endOfNumber\n",
    "    # return beginningOfNumber+endOfNumber\n",
    "    return number.rstrip('-')\n",
    "number = \"1-23-5427 -4-23214 \"\n",
    "# number = \"123 4-567543\"\n",
    "# number = \"123 4-5678 342\"\n",
    "# number = \"9964-\"\n",
    "# number = \"\"\n",
    "reformatNumber(number)"
   ]
  },
  {
   "cell_type": "code",
   "execution_count": null,
   "metadata": {},
   "outputs": [],
   "source": [
    "8 % 3\n",
    "7 % 3\n",
    "\n"
   ]
  }
 ]
}